{
 "cells": [
  {
   "cell_type": "code",
   "execution_count": 9,
   "id": "74e93cfc-02cb-4130-a9de-42b49b5976ea",
   "metadata": {},
   "outputs": [
    {
     "name": "stdout",
     "output_type": "stream",
     "text": [
      "Column names: Index(['Scene', 'Book Passage', 'Movie Script Passage'], dtype='object')\n"
     ]
    }
   ],
   "source": [
    "import pandas as pd\n",
    "import re\n",
    "\n",
    "def clean_book_text(text):\n",
    "    text = re.sub(r'\\n+', ' ', str(text))  # to remove excessive new lines\n",
    "    text = re.sub(r'[^\\x00-\\x7F]+', '', text)  \n",
    "    text = re.sub(r'\\s+', ' ', text)  # for spaces\n",
    "    return text.lower().strip()  # convert to lowercase\n",
    "\n",
    "def clean_script_text(text):\n",
    "    text = re.sub(r'EXT\\.|INT\\..*?\\n', '', str(text))  # to remove scene headings\n",
    "    text = re.sub(r'\\(.*?\\)', '', text)  # to remove parentheses\n",
    "    text = re.sub(r'^[A-Z ]+\\n', '', text, flags=re.MULTILINE)  # to remove character names\n",
    "    text = re.sub(r'\\s+', ' ', text)  \n",
    "    return text.lower().strip()  # convert to lowercase\n",
    "\n",
    "# Load the Excel file\n",
    "file_path = \"twilight.xlsx\"  \n",
    "df = pd.read_excel(file_path)\n",
    "\n",
    "# To verify column names\n",
    "print(\"Column names:\", df.columns)"
   ]
  },
  {
   "cell_type": "code",
   "execution_count": 10,
   "id": "be650000-c8d4-442c-b3c5-9566f206bd20",
   "metadata": {},
   "outputs": [
    {
     "name": "stdout",
     "output_type": "stream",
     "text": [
      "Cleaning complete! Saved as twilight_data_cleaned.xlsx\n"
     ]
    }
   ],
   "source": [
    "book_column = \"Book Passage\"  \n",
    "script_column = \"Movie Script Passage\"\n",
    "\n",
    "df[book_column] = df[book_column].apply(clean_book_text)\n",
    "df[script_column] = df[script_column].apply(clean_script_text)\n",
    "\n",
    "# Save cleaned data back to Excel\n",
    "cleaned_file_path = \"twilight_data_cleaned.xlsx\"\n",
    "df.to_excel(cleaned_file_path, index=False)\n",
    "\n",
    "print(f\"Cleaning complete! Saved as {cleaned_file_path}\")"
   ]
  },
  {
   "cell_type": "code",
   "execution_count": null,
   "id": "e07dbe26-2f12-4e16-a193-81ce6677332e",
   "metadata": {},
   "outputs": [],
   "source": []
  }
 ],
 "metadata": {
  "kernelspec": {
   "display_name": "Python 3 (ipykernel)",
   "language": "python",
   "name": "python3"
  },
  "language_info": {
   "codemirror_mode": {
    "name": "ipython",
    "version": 3
   },
   "file_extension": ".py",
   "mimetype": "text/x-python",
   "name": "python",
   "nbconvert_exporter": "python",
   "pygments_lexer": "ipython3",
   "version": "3.12.7"
  }
 },
 "nbformat": 4,
 "nbformat_minor": 5
}
